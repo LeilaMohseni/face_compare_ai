{
 "cells": [
  {
   "cell_type": "code",
   "execution_count": 1,
   "metadata": {},
   "outputs": [],
   "source": [
    "import numpy as np \n",
    "import face_recognition as fr\n",
    "import cv2 "
   ]
  },
  {
   "cell_type": "code",
   "execution_count": 2,
   "metadata": {},
   "outputs": [],
   "source": [
    "image= fr.load_image_file('face1_01.jpg')\n",
    "image2= cv2.cvtColor(image, cv2.COLOR_RGB2BGR)\n",
    "size= (1000,700)\n",
    "image_resize= cv2.resize(image2, size)"
   ]
  },
  {
   "cell_type": "code",
   "execution_count": 3,
   "metadata": {},
   "outputs": [],
   "source": [
    "face1=fr.face_encodings(image_resize)[0]\n",
    "image_compare2=fr.load_image_file('face1_02.jpg')\n",
    "image_compare2_encode=fr.face_encodings(image_compare2)[0]\n",
    "result=fr.compare_faces([face1], image_compare2_encode)"
   ]
  },
  {
   "cell_type": "code",
   "execution_count": 4,
   "metadata": {},
   "outputs": [
    {
     "name": "stdout",
     "output_type": "stream",
     "text": [
      "[True]\n"
     ]
    }
   ],
   "source": [
    "print(result)"
   ]
  },
  {
   "cell_type": "code",
   "execution_count": 5,
   "metadata": {},
   "outputs": [],
   "source": [
    "face2=fr.face_encodings(image_resize)[0]\n",
    "image_compare2=fr.load_image_file('face2.jpg')\n",
    "image_compare2_encode=fr.face_encodings(image_compare2)[0]\n",
    "result=fr.compare_faces([face1], image_compare2_encode)"
   ]
  },
  {
   "cell_type": "code",
   "execution_count": 6,
   "metadata": {},
   "outputs": [
    {
     "name": "stdout",
     "output_type": "stream",
     "text": [
      "[False]\n"
     ]
    }
   ],
   "source": [
    "print(result)"
   ]
  }
 ],
 "metadata": {
  "kernelspec": {
   "display_name": "Python 3",
   "language": "python",
   "name": "python3"
  },
  "language_info": {
   "codemirror_mode": {
    "name": "ipython",
    "version": 3
   },
   "file_extension": ".py",
   "mimetype": "text/x-python",
   "name": "python",
   "nbconvert_exporter": "python",
   "pygments_lexer": "ipython3",
   "version": "3.12.3"
  }
 },
 "nbformat": 4,
 "nbformat_minor": 2
}
